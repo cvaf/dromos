{
 "cells": [
  {
   "cell_type": "code",
   "execution_count": 1,
   "metadata": {},
   "outputs": [],
   "source": [
    "# basic imports\n",
    "import pandas as pd\n",
    "import numpy as np\n",
    "\n",
    "# other\n",
    "import warnings\n",
    "warnings.filterwarnings('ignore')\n",
    "import sys\n",
    "sys.path.append('modules/')\n",
    "\n",
    "# custom functions\n",
    "import process\n",
    "import route\n",
    "from credentials import google_api\n",
    "\n",
    "# plot imports\n",
    "from bokeh.io import show"
   ]
  },
  {
   "cell_type": "markdown",
   "metadata": {},
   "source": [
    "# DROMOS\n",
    "\n",
    "This project focuses on finding the shortest routes in Manhattan for pretty much anyone who doesn't like hills. \n",
    "To use the code below, download the datasets from the attached links and insert your Google Dev API in a credentials.py file stored in the same directory as the notebook.\n",
    "\n",
    "Using data from [NYC Open Data](https://data.cityofnewyork.us/Transportation/Elevation-points/szwg-xci6/data)."
   ]
  },
  {
   "cell_type": "markdown",
   "metadata": {},
   "source": [
    "#### **Table of Contents**:\n",
    "1. **Data Cleaning**:\n",
    "We start off by reading our two dataframes, Elevation and Centerline, clean them and merge them together to create our final dataset. \n",
    "    - 1.1 **Reading Dataframe 1**: Elevation.\n",
    "    - 1.2 **Reading Dataframe 2**: Centerline.\n",
    "        - Bike Lane.\n",
    "        - Coordinates.\n",
    "        - Traffic Direction.\n",
    "    - 1.3 **Merge**: Merging the two original dataframes.\n",
    "        - Calculating the Distance.\n",
    "        - Elevation for Missing Data.\n",
    "        - Converting: Feet to Meters.\n",
    "        - Save our Dataframe.\n",
    "2. **Route Search**:\n",
    "Our route search will take two addresses as input and will output a map displaying the shortest route between those two addresses. \n",
    "    - 2.1 **Input**: Our input has to be converted from addresses to coordinates.\n",
    "        - Define Origin and find Closest Point\n",
    "        - Define Destination and find Closest Point\n",
    "    - 2.2 **Graph**: We need to run the algorithm to find the shortest path and display that on a map. \n",
    "        - Narrow down dataframe search \n",
    "        - Construct Graph with Shortest Path to every Point from Origin.\n",
    "        - Find path from Origin to Destination.\n",
    "        - Display Path on a Map\n",
    "    \n",
    "# 1. Data Cleaning\n",
    "\n",
    "## 1.1 Elevation"
   ]
  },
  {
   "cell_type": "code",
   "execution_count": 2,
   "metadata": {},
   "outputs": [
    {
     "data": {
      "text/html": [
       "<div>\n",
       "<style scoped>\n",
       "    .dataframe tbody tr th:only-of-type {\n",
       "        vertical-align: middle;\n",
       "    }\n",
       "\n",
       "    .dataframe tbody tr th {\n",
       "        vertical-align: top;\n",
       "    }\n",
       "\n",
       "    .dataframe thead th {\n",
       "        text-align: right;\n",
       "    }\n",
       "</style>\n",
       "<table border=\"1\" class=\"dataframe\">\n",
       "  <thead>\n",
       "    <tr style=\"text-align: right;\">\n",
       "      <th></th>\n",
       "      <th>FEAT_CODE</th>\n",
       "      <th>ELEVATION</th>\n",
       "      <th>the_geom</th>\n",
       "      <th>SOURCE_ID</th>\n",
       "      <th>SUB_CODE</th>\n",
       "      <th>STATUS</th>\n",
       "    </tr>\n",
       "  </thead>\n",
       "  <tbody>\n",
       "    <tr>\n",
       "      <th>0</th>\n",
       "      <td>3020</td>\n",
       "      <td>129.740000</td>\n",
       "      <td>POINT (-73.98256951739029 40.70191431011495)</td>\n",
       "      <td>21302000001</td>\n",
       "      <td>302000</td>\n",
       "      <td>Unchanged</td>\n",
       "    </tr>\n",
       "    <tr>\n",
       "      <th>1</th>\n",
       "      <td>3000</td>\n",
       "      <td>120.586263</td>\n",
       "      <td>POINT (-73.98777990215136 40.70192587201795)</td>\n",
       "      <td>21300000002</td>\n",
       "      <td>300020</td>\n",
       "      <td>Unchanged</td>\n",
       "    </tr>\n",
       "  </tbody>\n",
       "</table>\n",
       "</div>"
      ],
      "text/plain": [
       "   FEAT_CODE   ELEVATION                                      the_geom  \\\n",
       "0       3020  129.740000  POINT (-73.98256951739029 40.70191431011495)   \n",
       "1       3000  120.586263  POINT (-73.98777990215136 40.70192587201795)   \n",
       "\n",
       "     SOURCE_ID  SUB_CODE     STATUS  \n",
       "0  21302000001    302000  Unchanged  \n",
       "1  21300000002    300020  Unchanged  "
      ]
     },
     "execution_count": 2,
     "metadata": {},
     "output_type": "execute_result"
    }
   ],
   "source": [
    "df_ele = pd.read_csv('data/ELEVATION.csv')\n",
    "df_ele.head(2)"
   ]
  },
  {
   "cell_type": "code",
   "execution_count": 3,
   "metadata": {},
   "outputs": [],
   "source": [
    "# we only select the values with subcode 300000 - road points\n",
    "df_ele = df_ele[df_ele.SUB_CODE == 300000]\n",
    "df_ele.reset_index(drop = True, inplace = True)\n",
    "\n",
    "# parse out our coordinates\n",
    "df_ele['longitude'], df_ele['latitude'] = process.coords_parser(df_ele.the_geom)\n",
    "\n",
    "# round the values in our dataframe\n",
    "df_ele = df_ele.round(8)\n",
    "\n",
    "# turn our coordinates into a tuple\n",
    "df_ele['coords_first'] = list(zip(df_ele.latitude, df_ele.longitude))\n",
    "\n",
    "# rename elevation and select the only variables we need\n",
    "df_ele['elevation'] = df_ele.ELEVATION\n",
    "df_ele = df_ele[['coords_first', 'elevation']]\n",
    "\n",
    "# creating a duplicate dataframe for later use\n",
    "df_ele_last = df_ele[['elevation']]\n",
    "df_ele_last['coords_last'] = df_ele.coords_first\n",
    "df_ele_last = df_ele_last[['coords_last', 'elevation']]"
   ]
  },
  {
   "cell_type": "code",
   "execution_count": 4,
   "metadata": {},
   "outputs": [
    {
     "data": {
      "text/html": [
       "<div>\n",
       "<style scoped>\n",
       "    .dataframe tbody tr th:only-of-type {\n",
       "        vertical-align: middle;\n",
       "    }\n",
       "\n",
       "    .dataframe tbody tr th {\n",
       "        vertical-align: top;\n",
       "    }\n",
       "\n",
       "    .dataframe thead th {\n",
       "        text-align: right;\n",
       "    }\n",
       "</style>\n",
       "<table border=\"1\" class=\"dataframe\">\n",
       "  <thead>\n",
       "    <tr style=\"text-align: right;\">\n",
       "      <th></th>\n",
       "      <th>coords_first</th>\n",
       "      <th>elevation</th>\n",
       "    </tr>\n",
       "  </thead>\n",
       "  <tbody>\n",
       "    <tr>\n",
       "      <th>0</th>\n",
       "      <td>(40.70197472, -73.9867178)</td>\n",
       "      <td>30.089456</td>\n",
       "    </tr>\n",
       "    <tr>\n",
       "      <th>1</th>\n",
       "      <td>(40.7020084, -73.97983484)</td>\n",
       "      <td>8.511560</td>\n",
       "    </tr>\n",
       "  </tbody>\n",
       "</table>\n",
       "</div>"
      ],
      "text/plain": [
       "                 coords_first  elevation\n",
       "0  (40.70197472, -73.9867178)  30.089456\n",
       "1  (40.7020084, -73.97983484)   8.511560"
      ]
     },
     "execution_count": 4,
     "metadata": {},
     "output_type": "execute_result"
    }
   ],
   "source": [
    "df_ele.head(2)"
   ]
  },
  {
   "cell_type": "markdown",
   "metadata": {},
   "source": [
    "## 1.2 Centerline\n",
    "\n",
    "This dataset gives us information on traffic direction, bike lanes, traffic direction, street width and street name.\n",
    "\n",
    "#### Dictionary\n",
    "\n",
    "**Traffic Direction**: code indicating the flow of traffic relative to the street segment's address range.\n",
    "1. FT - With\n",
    "2. TF - Against\n",
    "3. TW - Two-way\n",
    "4. NV - Non-vehicular\n",
    "\n",
    "**Coordinates**: our latitude and longitude variables indicate the first and last set of coordinates on each street.\n",
    "\n",
    "**Full Street**: Street Name\n",
    "\n",
    "**Physical ID**: unique ID for intersections (might not be necessary)\n",
    "\n",
    "**Bike Lane**: binary variable s.t 1 = bike lane, 0 = no bike lane\n",
    "\n",
    "**Street Width**: indicates street width in feet"
   ]
  },
  {
   "cell_type": "code",
   "execution_count": 5,
   "metadata": {},
   "outputs": [
    {
     "data": {
      "text/html": [
       "<div>\n",
       "<style scoped>\n",
       "    .dataframe tbody tr th:only-of-type {\n",
       "        vertical-align: middle;\n",
       "    }\n",
       "\n",
       "    .dataframe tbody tr th {\n",
       "        vertical-align: top;\n",
       "    }\n",
       "\n",
       "    .dataframe thead th {\n",
       "        text-align: right;\n",
       "    }\n",
       "</style>\n",
       "<table border=\"1\" class=\"dataframe\">\n",
       "  <thead>\n",
       "    <tr style=\"text-align: right;\">\n",
       "      <th></th>\n",
       "      <th>L_LOW_HN</th>\n",
       "      <th>the_geom</th>\n",
       "      <th>L_HIGH_HN</th>\n",
       "      <th>PHYSICALID</th>\n",
       "      <th>R_LOW_HN</th>\n",
       "      <th>R_HIGH_HN</th>\n",
       "      <th>L_ZIP</th>\n",
       "      <th>R_ZIP</th>\n",
       "      <th>L_BLKFC_ID</th>\n",
       "      <th>R_BLKFC_ID</th>\n",
       "      <th>...</th>\n",
       "      <th>PRE_MODIFI</th>\n",
       "      <th>PRE_DIRECT</th>\n",
       "      <th>PRE_TYPE</th>\n",
       "      <th>POST_TYPE</th>\n",
       "      <th>POST_DIREC</th>\n",
       "      <th>POST_MODIF</th>\n",
       "      <th>FULL_STREE</th>\n",
       "      <th>ST_NAME</th>\n",
       "      <th>BIKE_TRAFD</th>\n",
       "      <th>SHAPE_Leng</th>\n",
       "    </tr>\n",
       "  </thead>\n",
       "  <tbody>\n",
       "    <tr>\n",
       "      <th>0</th>\n",
       "      <td>NaN</td>\n",
       "      <td>MULTILINESTRING ((-73.87861544017795 40.861915...</td>\n",
       "      <td>NaN</td>\n",
       "      <td>164809</td>\n",
       "      <td>NaN</td>\n",
       "      <td>NaN</td>\n",
       "      <td>10458.0</td>\n",
       "      <td>10458.0</td>\n",
       "      <td>0</td>\n",
       "      <td>0</td>\n",
       "      <td>...</td>\n",
       "      <td>NaN</td>\n",
       "      <td>NaN</td>\n",
       "      <td>NaN</td>\n",
       "      <td>TRL</td>\n",
       "      <td>NaN</td>\n",
       "      <td>NaN</td>\n",
       "      <td>MITSUBISHI WILD WETLAND TRL</td>\n",
       "      <td>MITSUBISHI WILD WETLAND</td>\n",
       "      <td>NaN</td>\n",
       "      <td>1026.077523</td>\n",
       "    </tr>\n",
       "    <tr>\n",
       "      <th>1</th>\n",
       "      <td>215-001</td>\n",
       "      <td>MULTILINESTRING ((-73.7729030190404 40.7778042...</td>\n",
       "      <td>215-027</td>\n",
       "      <td>6110</td>\n",
       "      <td>215-001</td>\n",
       "      <td>215-026</td>\n",
       "      <td>11360.0</td>\n",
       "      <td>11360.0</td>\n",
       "      <td>112261166</td>\n",
       "      <td>112262650</td>\n",
       "      <td>...</td>\n",
       "      <td>NaN</td>\n",
       "      <td>NaN</td>\n",
       "      <td>NaN</td>\n",
       "      <td>AVE</td>\n",
       "      <td>NaN</td>\n",
       "      <td>NaN</td>\n",
       "      <td>28 AVE</td>\n",
       "      <td>28</td>\n",
       "      <td>NaN</td>\n",
       "      <td>258.859740</td>\n",
       "    </tr>\n",
       "  </tbody>\n",
       "</table>\n",
       "<p>2 rows × 32 columns</p>\n",
       "</div>"
      ],
      "text/plain": [
       "  L_LOW_HN                                           the_geom L_HIGH_HN  \\\n",
       "0      NaN  MULTILINESTRING ((-73.87861544017795 40.861915...       NaN   \n",
       "1  215-001  MULTILINESTRING ((-73.7729030190404 40.7778042...   215-027   \n",
       "\n",
       "   PHYSICALID R_LOW_HN R_HIGH_HN    L_ZIP    R_ZIP  L_BLKFC_ID  R_BLKFC_ID  \\\n",
       "0      164809      NaN       NaN  10458.0  10458.0           0           0   \n",
       "1        6110  215-001   215-026  11360.0  11360.0   112261166   112262650   \n",
       "\n",
       "   ... PRE_MODIFI  PRE_DIRECT  PRE_TYPE  POST_TYPE  POST_DIREC POST_MODIF  \\\n",
       "0  ...        NaN         NaN       NaN        TRL         NaN        NaN   \n",
       "1  ...        NaN         NaN       NaN        AVE         NaN        NaN   \n",
       "\n",
       "                    FULL_STREE                  ST_NAME  BIKE_TRAFD  \\\n",
       "0  MITSUBISHI WILD WETLAND TRL  MITSUBISHI WILD WETLAND         NaN   \n",
       "1                       28 AVE                       28         NaN   \n",
       "\n",
       "    SHAPE_Leng  \n",
       "0  1026.077523  \n",
       "1   258.859740  \n",
       "\n",
       "[2 rows x 32 columns]"
      ]
     },
     "execution_count": 5,
     "metadata": {},
     "output_type": "execute_result"
    }
   ],
   "source": [
    "df_cline = pd.read_csv('data/Centerline.csv')\n",
    "df_cline.head(2)"
   ]
  },
  {
   "cell_type": "code",
   "execution_count": 6,
   "metadata": {},
   "outputs": [],
   "source": [
    "# limit our data for Manhattan\n",
    "df_cline = df_cline[df_cline.BOROCODE == 1]\n",
    "\n",
    "# remove driveways\n",
    "df_cline = df_cline[df_cline.FULL_STREE != 'DRIVEWAY']"
   ]
  },
  {
   "cell_type": "markdown",
   "metadata": {},
   "source": [
    "#### Bikelane"
   ]
  },
  {
   "cell_type": "code",
   "execution_count": 7,
   "metadata": {},
   "outputs": [],
   "source": [
    "# edit bike_lane variable s.t 1 = bike lane, 0 = no bike lane\n",
    "df_cline['bike_lane'] = np.where(df_cline.BIKE_LANE.notnull(), 1, 0)"
   ]
  },
  {
   "cell_type": "markdown",
   "metadata": {},
   "source": [
    "#### Coordinates"
   ]
  },
  {
   "cell_type": "code",
   "execution_count": 8,
   "metadata": {},
   "outputs": [],
   "source": [
    "# parse out the coordinates from the_geom using our custom function\n",
    "df_cline.reset_index(drop=True, inplace=True)\n",
    "df_cline['lat_f'], df_cline['lon_f'], df_cline['lat_l'], df_cline['lon_l'] = process.coords_parser(df_cline.the_geom)\n",
    "df_cline = df_cline.round(8)\n",
    "\n",
    "# zip the coordinates together as tuples\n",
    "df_cline['coords_first'] = list(zip(df_cline.lat_f, df_cline.lon_f))\n",
    "df_cline['coords_last'] = list(zip(df_cline.lat_l, df_cline.lon_l))\n",
    "\n",
    "# filter out observations which point to the same coordinates\n",
    "df_cline = df_cline[df_cline.coords_first != df_cline.coords_last]\n",
    "\n",
    "# rename some of our variables\n",
    "df_cline['full_street'] = df_cline.FULL_STREE\n",
    "df_cline['street_width'] = df_cline.ST_WIDTH\n",
    "df_cline['traffic_dir'] = df_cline.TRAFDIR\n",
    "\n",
    "# select and rearrange our variables of interest\n",
    "df_cline.reset_index(drop = True, inplace = True)\n",
    "df_cline = df_cline[['coords_first', 'coords_last', 'full_street', 'street_width', 'traffic_dir', 'bike_lane']]"
   ]
  },
  {
   "cell_type": "markdown",
   "metadata": {},
   "source": [
    "#### Traffic Direction\n",
    "\n",
    "We would like to add the reverse direction for two-way streets to our dataframe."
   ]
  },
  {
   "cell_type": "code",
   "execution_count": 9,
   "metadata": {},
   "outputs": [],
   "source": [
    "# create a new dataset made up of all of our datapoints with either two way streets or streets facing the other way\n",
    "cline_rev = df_cline[(df_cline.traffic_dir == 'TF') | (df_cline.traffic_dir == 'TW')]\n",
    "# create a placeholder for our coordinates and then switch them\n",
    "cline_rev['_'] = cline_rev.coords_first\n",
    "cline_rev['coords_first'] = cline_rev.coords_last\n",
    "cline_rev['coords_last'] = cline_rev._\n",
    "cline_rev.drop('_', axis = 1, inplace = True)\n",
    "# reverse the direction\n",
    "cline_rev.traffic_dir = np.where(cline_rev.traffic_dir == 'TF', 'FT', cline_rev.traffic_dir)\n",
    "\n",
    "# append our new dataset of reversed directions\n",
    "df_cline = df_cline.append(cline_rev)\n",
    "\n",
    "# remove all duplicates\n",
    "df_cline = df_cline[df_cline.traffic_dir != 'TF']\n",
    "# specify direction for all datapoints\n",
    "df_cline['traffic_dir'] = np.where(df_cline.traffic_dir == 'TW', 'FT', df_cline.traffic_dir)\n",
    "\n",
    "# drop traffic direction as we are no longer interested in it\n",
    "df_cline.drop('traffic_dir', axis = 1, inplace = True)\n",
    "df_cline.reset_index(drop = True, inplace = True)"
   ]
  },
  {
   "cell_type": "code",
   "execution_count": 10,
   "metadata": {},
   "outputs": [
    {
     "data": {
      "text/html": [
       "<div>\n",
       "<style scoped>\n",
       "    .dataframe tbody tr th:only-of-type {\n",
       "        vertical-align: middle;\n",
       "    }\n",
       "\n",
       "    .dataframe tbody tr th {\n",
       "        vertical-align: top;\n",
       "    }\n",
       "\n",
       "    .dataframe thead th {\n",
       "        text-align: right;\n",
       "    }\n",
       "</style>\n",
       "<table border=\"1\" class=\"dataframe\">\n",
       "  <thead>\n",
       "    <tr style=\"text-align: right;\">\n",
       "      <th></th>\n",
       "      <th>coords_first</th>\n",
       "      <th>coords_last</th>\n",
       "      <th>full_street</th>\n",
       "      <th>street_width</th>\n",
       "      <th>bike_lane</th>\n",
       "    </tr>\n",
       "  </thead>\n",
       "  <tbody>\n",
       "    <tr>\n",
       "      <th>0</th>\n",
       "      <td>(40.70454591, -74.01006968)</td>\n",
       "      <td>(40.70477525, -74.00974639)</td>\n",
       "      <td>STONE ST</td>\n",
       "      <td>14</td>\n",
       "      <td>0</td>\n",
       "    </tr>\n",
       "    <tr>\n",
       "      <th>1</th>\n",
       "      <td>(40.84671052, -73.93191507)</td>\n",
       "      <td>(40.84680263, -73.9318501)</td>\n",
       "      <td>AMSTERDAM AVE</td>\n",
       "      <td>60</td>\n",
       "      <td>1</td>\n",
       "    </tr>\n",
       "  </tbody>\n",
       "</table>\n",
       "</div>"
      ],
      "text/plain": [
       "                  coords_first                  coords_last    full_street  \\\n",
       "0  (40.70454591, -74.01006968)  (40.70477525, -74.00974639)       STONE ST   \n",
       "1  (40.84671052, -73.93191507)   (40.84680263, -73.9318501)  AMSTERDAM AVE   \n",
       "\n",
       "   street_width  bike_lane  \n",
       "0            14          0  \n",
       "1            60          1  "
      ]
     },
     "execution_count": 10,
     "metadata": {},
     "output_type": "execute_result"
    }
   ],
   "source": [
    "df_cline.head(2)"
   ]
  },
  {
   "cell_type": "code",
   "execution_count": 11,
   "metadata": {},
   "outputs": [
    {
     "name": "stdout",
     "output_type": "stream",
     "text": [
      "Centerline data has 15848 datapoints and we have 376575 datapoints on elevation.\n"
     ]
    }
   ],
   "source": [
    "print('Centerline data has {} datapoints and we have {} datapoints on elevation.'.format(df_cline.shape[0], df_ele.shape[0]))"
   ]
  },
  {
   "cell_type": "markdown",
   "metadata": {},
   "source": [
    "## 1.3 Merge\n",
    "\n",
    "At the moment our elevation dataframe, df_ele, stores information on the elevation for a set of coordinates. Our other dataframe, df_cline, stores information for the distance between two sets of coordinates. To proceed with our project, we need to merge the two together, and eventually calculate the elevation difference between the two sets of coordinates. "
   ]
  },
  {
   "cell_type": "code",
   "execution_count": 12,
   "metadata": {},
   "outputs": [],
   "source": [
    "# merging our dataframes\n",
    "df = df_cline.merge(df_ele, on = 'coords_first', how = 'left')\n",
    "df = df.merge(df_ele_last, on = 'coords_last', how = 'left')"
   ]
  },
  {
   "cell_type": "markdown",
   "metadata": {},
   "source": [
    "#### Measuring the distance\n",
    "\n",
    "To find the distance between our two set of coordinates, we use the custom function 'meters_dist' -- we apply that to our dataset to construct the 'distance' variable."
   ]
  },
  {
   "cell_type": "code",
   "execution_count": 13,
   "metadata": {},
   "outputs": [],
   "source": [
    "# creating the new distance variable -- represents the distance between our two coordinates in meters\n",
    "df['distance'] = df.apply(process.meters_dist, axis = 1)\n",
    "\n",
    "# sorting our values in ascending order and resetting the index\n",
    "df.sort_values(by = 'coords_first', ascending = True, inplace = True)\n",
    "df.reset_index(drop = True, inplace = True)"
   ]
  },
  {
   "cell_type": "markdown",
   "metadata": {},
   "source": [
    "#### Elevation: missing data\n",
    "\n",
    "For a subset of our df_cline dataset, we don't have the equivalent set of coordinates in the elevation dataset so we will find the closest one. Once we do that, we will add the corresponding elevation to our dataframe."
   ]
  },
  {
   "cell_type": "code",
   "execution_count": 14,
   "metadata": {},
   "outputs": [],
   "source": [
    "df.loc[df.elevation_x.isnull(), 'elevation_x'] = df[df.elevation_x.isnull()].coords_first.apply(process.closest_elevation, args=(df_ele,))"
   ]
  },
  {
   "cell_type": "code",
   "execution_count": 21,
   "metadata": {},
   "outputs": [],
   "source": [
    "df.loc[df.elevation_y.isnull(), 'elevation_y'] = df[df.elevation_y.isnull()].coords_last.apply(process.closest_elevation, args=(df_ele,))"
   ]
  },
  {
   "cell_type": "markdown",
   "metadata": {},
   "source": [
    "#### Elevation: Feet to Meters\n",
    "\n",
    "Our elevation data is in feet, so we would like to convert it to meters."
   ]
  },
  {
   "cell_type": "code",
   "execution_count": 22,
   "metadata": {},
   "outputs": [],
   "source": [
    "df['elevation_x'] = df.elevation_x * 0.3048\n",
    "df['elevation_y'] = df.elevation_y * 0.3048"
   ]
  },
  {
   "cell_type": "markdown",
   "metadata": {},
   "source": [
    "#### Elevation: Difference"
   ]
  },
  {
   "cell_type": "code",
   "execution_count": 23,
   "metadata": {},
   "outputs": [],
   "source": [
    "# calculate the elevation difference\n",
    "df['elevation_diff'] = df.elevation_y - df.elevation_x"
   ]
  },
  {
   "cell_type": "markdown",
   "metadata": {},
   "source": [
    "#### Elevation: Steepness"
   ]
  },
  {
   "cell_type": "code",
   "execution_count": 24,
   "metadata": {},
   "outputs": [],
   "source": [
    "df['steep'] = abs(df.elevation_diff) / df.distance"
   ]
  },
  {
   "cell_type": "code",
   "execution_count": 25,
   "metadata": {},
   "outputs": [
    {
     "data": {
      "text/html": [
       "<div>\n",
       "<style scoped>\n",
       "    .dataframe tbody tr th:only-of-type {\n",
       "        vertical-align: middle;\n",
       "    }\n",
       "\n",
       "    .dataframe tbody tr th {\n",
       "        vertical-align: top;\n",
       "    }\n",
       "\n",
       "    .dataframe thead th {\n",
       "        text-align: right;\n",
       "    }\n",
       "</style>\n",
       "<table border=\"1\" class=\"dataframe\">\n",
       "  <thead>\n",
       "    <tr style=\"text-align: right;\">\n",
       "      <th></th>\n",
       "      <th>coords_first</th>\n",
       "      <th>coords_last</th>\n",
       "      <th>full_street</th>\n",
       "      <th>street_width</th>\n",
       "      <th>bike_lane</th>\n",
       "      <th>elevation_x</th>\n",
       "      <th>elevation_y</th>\n",
       "      <th>distance</th>\n",
       "      <th>elevation_diff</th>\n",
       "      <th>steep</th>\n",
       "    </tr>\n",
       "  </thead>\n",
       "  <tbody>\n",
       "    <tr>\n",
       "      <th>15846</th>\n",
       "      <td>(40.87848113, -73.92535763)</td>\n",
       "      <td>(40.87888837, -73.92490327)</td>\n",
       "      <td>AMTRAK BRG</td>\n",
       "      <td>0</td>\n",
       "      <td>0</td>\n",
       "      <td>18.858403</td>\n",
       "      <td>18.858403</td>\n",
       "      <td>59.309820</td>\n",
       "      <td>0.000000</td>\n",
       "      <td>0.000000</td>\n",
       "    </tr>\n",
       "    <tr>\n",
       "      <th>15847</th>\n",
       "      <td>(40.87903805, -73.91033194)</td>\n",
       "      <td>(40.87773675, -73.91200665)</td>\n",
       "      <td>TIBBETT AVE</td>\n",
       "      <td>38</td>\n",
       "      <td>0</td>\n",
       "      <td>2.840004</td>\n",
       "      <td>2.518014</td>\n",
       "      <td>202.122844</td>\n",
       "      <td>-0.321991</td>\n",
       "      <td>0.001593</td>\n",
       "    </tr>\n",
       "  </tbody>\n",
       "</table>\n",
       "</div>"
      ],
      "text/plain": [
       "                      coords_first                  coords_last  full_street  \\\n",
       "15846  (40.87848113, -73.92535763)  (40.87888837, -73.92490327)   AMTRAK BRG   \n",
       "15847  (40.87903805, -73.91033194)  (40.87773675, -73.91200665)  TIBBETT AVE   \n",
       "\n",
       "       street_width  bike_lane  elevation_x  elevation_y    distance  \\\n",
       "15846             0          0    18.858403    18.858403   59.309820   \n",
       "15847            38          0     2.840004     2.518014  202.122844   \n",
       "\n",
       "       elevation_diff     steep  \n",
       "15846        0.000000  0.000000  \n",
       "15847       -0.321991  0.001593  "
      ]
     },
     "execution_count": 25,
     "metadata": {},
     "output_type": "execute_result"
    }
   ],
   "source": [
    "df.tail(2)"
   ]
  },
  {
   "cell_type": "code",
   "execution_count": 30,
   "metadata": {},
   "outputs": [],
   "source": [
    "df.to_pickle('data/dataframe.pkl')"
   ]
  },
  {
   "cell_type": "markdown",
   "metadata": {},
   "source": [
    "# 2. Route Search\n",
    "\n",
    "Once our data is finally ready -- we will start setting up our program to find the optimal route between two points by using **Dijkstra's** algorithm. \n",
    "\n",
    "Route Search:\n",
    "- Input: Starting Address + Target Address\n",
    "- Output: Map outlying the ideal route.\n",
    "\n",
    "**Steps**:\n",
    "1. Enter the input as an address, convert that to coordinates. \n",
    "2. Construct the graph outlying shortest path from origin to other points in dataframe using Dijkstra's.\n",
    "3. Find the path from the origin to the destination.\n",
    "4. Display the path on a map.\n"
   ]
  },
  {
   "cell_type": "code",
   "execution_count": 14,
   "metadata": {},
   "outputs": [],
   "source": [
    "df = pd.read_pickle('data/dataframe.pkl')"
   ]
  },
  {
   "cell_type": "code",
   "execution_count": 15,
   "metadata": {},
   "outputs": [],
   "source": [
    "def parser(x, i):\n",
    "    return x.split('(')[-1].split(')')[0].split()[i].split(',')[0]\n",
    "\n",
    "# our set of coordinates are loaded as strings so we convert them to ints\n",
    "df['first_x'] = pd.to_numeric(df.coords_first.apply(parser, args=(0,)))\n",
    "df['first_y'] = pd.to_numeric(df.coords_first.apply(parser, args=(1,)))\n",
    "df['last_x'] = pd.to_numeric(df.coords_last.apply(parser, args=(0,)))\n",
    "df['last_y'] = pd.to_numeric(df.coords_last.apply(parser, args=(1,)))\n",
    "                              \n",
    "df['coords_first'] = list(zip(df.first_x, df.first_y))\n",
    "df['coords_last'] = list(zip(df.last_x, df.last_y))"
   ]
  },
  {
   "cell_type": "code",
   "execution_count": 16,
   "metadata": {},
   "outputs": [],
   "source": [
    "df['actual_distance'] = df.distance\n",
    "\n",
    "# construct a new distance variable that also takes the steepness into account\n",
    "df['distance'] = df.actual_distance * round(df.steep + 1)"
   ]
  },
  {
   "cell_type": "code",
   "execution_count": 17,
   "metadata": {},
   "outputs": [
    {
     "data": {
      "text/html": [
       "<div>\n",
       "<style scoped>\n",
       "    .dataframe tbody tr th:only-of-type {\n",
       "        vertical-align: middle;\n",
       "    }\n",
       "\n",
       "    .dataframe tbody tr th {\n",
       "        vertical-align: top;\n",
       "    }\n",
       "\n",
       "    .dataframe thead th {\n",
       "        text-align: right;\n",
       "    }\n",
       "</style>\n",
       "<table border=\"1\" class=\"dataframe\">\n",
       "  <thead>\n",
       "    <tr style=\"text-align: right;\">\n",
       "      <th></th>\n",
       "      <th>coords_first</th>\n",
       "      <th>coords_last</th>\n",
       "      <th>full_street</th>\n",
       "      <th>street_width</th>\n",
       "      <th>bike_lane</th>\n",
       "      <th>elevation_x</th>\n",
       "      <th>elevation_y</th>\n",
       "      <th>distance</th>\n",
       "      <th>elevation_diff</th>\n",
       "      <th>steep</th>\n",
       "      <th>first_x</th>\n",
       "      <th>first_y</th>\n",
       "      <th>last_x</th>\n",
       "      <th>last_y</th>\n",
       "      <th>actual_distance</th>\n",
       "    </tr>\n",
       "  </thead>\n",
       "  <tbody>\n",
       "    <tr>\n",
       "      <th>0</th>\n",
       "      <td>(40.67984161, -74.01984812)</td>\n",
       "      <td>(40.69244388, -74.00685151)</td>\n",
       "      <td>MARTHA'S VYD HIGHLANDS FERRY RTE</td>\n",
       "      <td>0</td>\n",
       "      <td>0</td>\n",
       "      <td>1.863303</td>\n",
       "      <td>1.734286</td>\n",
       "      <td>1780.912448</td>\n",
       "      <td>-0.129018</td>\n",
       "      <td>0.000072</td>\n",
       "      <td>40.679842</td>\n",
       "      <td>-74.019848</td>\n",
       "      <td>40.692444</td>\n",
       "      <td>-74.006852</td>\n",
       "      <td>1780.912448</td>\n",
       "    </tr>\n",
       "    <tr>\n",
       "      <th>1</th>\n",
       "      <td>(40.67986109, -74.01941948)</td>\n",
       "      <td>(40.67974306, -74.0195594)</td>\n",
       "      <td>IKEA WALL STREET FERRY RTE</td>\n",
       "      <td>0</td>\n",
       "      <td>0</td>\n",
       "      <td>1.863303</td>\n",
       "      <td>1.863303</td>\n",
       "      <td>17.668083</td>\n",
       "      <td>0.000000</td>\n",
       "      <td>0.000000</td>\n",
       "      <td>40.679861</td>\n",
       "      <td>-74.019419</td>\n",
       "      <td>40.679743</td>\n",
       "      <td>-74.019559</td>\n",
       "      <td>17.668083</td>\n",
       "    </tr>\n",
       "  </tbody>\n",
       "</table>\n",
       "</div>"
      ],
      "text/plain": [
       "                  coords_first                  coords_last  \\\n",
       "0  (40.67984161, -74.01984812)  (40.69244388, -74.00685151)   \n",
       "1  (40.67986109, -74.01941948)   (40.67974306, -74.0195594)   \n",
       "\n",
       "                        full_street  street_width  bike_lane  elevation_x  \\\n",
       "0  MARTHA'S VYD HIGHLANDS FERRY RTE             0          0     1.863303   \n",
       "1        IKEA WALL STREET FERRY RTE             0          0     1.863303   \n",
       "\n",
       "   elevation_y     distance  elevation_diff     steep    first_x    first_y  \\\n",
       "0     1.734286  1780.912448       -0.129018  0.000072  40.679842 -74.019848   \n",
       "1     1.863303    17.668083        0.000000  0.000000  40.679861 -74.019419   \n",
       "\n",
       "      last_x     last_y  actual_distance  \n",
       "0  40.692444 -74.006852      1780.912448  \n",
       "1  40.679743 -74.019559        17.668083  "
      ]
     },
     "execution_count": 17,
     "metadata": {},
     "output_type": "execute_result"
    }
   ],
   "source": [
    "df.head(2)"
   ]
  },
  {
   "cell_type": "markdown",
   "metadata": {},
   "source": [
    "## Step 1\n",
    "\n",
    "We input our origin and destination addresses in the coords_finder function we constructed to find each location's coordinates."
   ]
  },
  {
   "cell_type": "code",
   "execution_count": 18,
   "metadata": {},
   "outputs": [],
   "source": [
    "beginning = route.coords_finder('Columbia University New York', google_api)\n",
    "beginning = (round(beginning[0], 4), round(beginning[1], 4))\n",
    "if not df[df.coords_first == beginning].any()[0]:\n",
    "    beginning = route.closest_point(beginning, list(df.coords_first))\n",
    "\n",
    "end = route.coords_finder('Levain Cookies Upper West Side', google_api)\n",
    "end = (round(end[0], 4), round(end[1], 4))\n",
    "if not df[df.coords_last == end].any()[1]:\n",
    "    end = route.closest_point(end, list(df.coords_last))"
   ]
  },
  {
   "cell_type": "markdown",
   "metadata": {},
   "source": [
    "## Step 2\n",
    "\n",
    "We pass the corresponding coordinates as arguments to our d_graph function that uses Dikjstra's to find the shortest path to every point from our origin."
   ]
  },
  {
   "cell_type": "code",
   "execution_count": 19,
   "metadata": {},
   "outputs": [
    {
     "data": {
      "text/html": [
       "<div>\n",
       "<style scoped>\n",
       "    .dataframe tbody tr th:only-of-type {\n",
       "        vertical-align: middle;\n",
       "    }\n",
       "\n",
       "    .dataframe tbody tr th {\n",
       "        vertical-align: top;\n",
       "    }\n",
       "\n",
       "    .dataframe thead th {\n",
       "        text-align: right;\n",
       "    }\n",
       "</style>\n",
       "<table border=\"1\" class=\"dataframe\">\n",
       "  <thead>\n",
       "    <tr style=\"text-align: right;\">\n",
       "      <th></th>\n",
       "      <th>vertex</th>\n",
       "      <th>short_distance</th>\n",
       "      <th>prev_vertex</th>\n",
       "    </tr>\n",
       "  </thead>\n",
       "  <tbody>\n",
       "    <tr>\n",
       "      <th>0</th>\n",
       "      <td>(40.80796161, -73.96380137)</td>\n",
       "      <td>0.000000</td>\n",
       "      <td>NaN</td>\n",
       "    </tr>\n",
       "    <tr>\n",
       "      <th>1</th>\n",
       "      <td>(40.80804636, -73.96399728)</td>\n",
       "      <td>19.012837</td>\n",
       "      <td>(40.80796161, -73.96380137)</td>\n",
       "    </tr>\n",
       "  </tbody>\n",
       "</table>\n",
       "</div>"
      ],
      "text/plain": [
       "                        vertex  short_distance                  prev_vertex\n",
       "0  (40.80796161, -73.96380137)        0.000000                          NaN\n",
       "1  (40.80804636, -73.96399728)       19.012837  (40.80796161, -73.96380137)"
      ]
     },
     "execution_count": 19,
     "metadata": {},
     "output_type": "execute_result"
    }
   ],
   "source": [
    "result = route.d_graph(beginning, end, df)\n",
    "result.head(2)"
   ]
  },
  {
   "cell_type": "markdown",
   "metadata": {},
   "source": [
    "## Step 3\n",
    "\n",
    "We retrace our algorithm to find the shortest path to our destination. "
   ]
  },
  {
   "cell_type": "code",
   "execution_count": 25,
   "metadata": {},
   "outputs": [
    {
     "data": {
      "text/html": [
       "<div>\n",
       "<style scoped>\n",
       "    .dataframe tbody tr th:only-of-type {\n",
       "        vertical-align: middle;\n",
       "    }\n",
       "\n",
       "    .dataframe tbody tr th {\n",
       "        vertical-align: top;\n",
       "    }\n",
       "\n",
       "    .dataframe thead th {\n",
       "        text-align: right;\n",
       "    }\n",
       "</style>\n",
       "<table border=\"1\" class=\"dataframe\">\n",
       "  <thead>\n",
       "    <tr style=\"text-align: right;\">\n",
       "      <th></th>\n",
       "      <th>0</th>\n",
       "      <th>1</th>\n",
       "    </tr>\n",
       "  </thead>\n",
       "  <tbody>\n",
       "    <tr>\n",
       "      <th>0</th>\n",
       "      <td>40.779925</td>\n",
       "      <td>-73.980674</td>\n",
       "    </tr>\n",
       "    <tr>\n",
       "      <th>1</th>\n",
       "      <td>40.780235</td>\n",
       "      <td>-73.981409</td>\n",
       "    </tr>\n",
       "  </tbody>\n",
       "</table>\n",
       "</div>"
      ],
      "text/plain": [
       "           0          1\n",
       "0  40.779925 -73.980674\n",
       "1  40.780235 -73.981409"
      ]
     },
     "execution_count": 25,
     "metadata": {},
     "output_type": "execute_result"
    }
   ],
   "source": [
    "path = route.route_construction(result, beginning, end)\n",
    "df_route = pd.Series(path)\n",
    "df_route = df_route.apply(pd.Series)\n",
    "df_route.head(2)"
   ]
  },
  {
   "cell_type": "markdown",
   "metadata": {},
   "source": [
    "## Step 4\n",
    "\n",
    "Displaying the path:"
   ]
  },
  {
   "cell_type": "code",
   "execution_count": 26,
   "metadata": {},
   "outputs": [],
   "source": [
    "plot = route.map_plot(df_route, google_api)\n",
    "show(plot)"
   ]
  },
  {
   "cell_type": "code",
   "execution_count": null,
   "metadata": {},
   "outputs": [],
   "source": []
  }
 ],
 "metadata": {
  "kernelspec": {
   "display_name": "Python 3",
   "language": "python",
   "name": "python3"
  },
  "language_info": {
   "codemirror_mode": {
    "name": "ipython",
    "version": 3
   },
   "file_extension": ".py",
   "mimetype": "text/x-python",
   "name": "python",
   "nbconvert_exporter": "python",
   "pygments_lexer": "ipython3",
   "version": "3.7.0"
  }
 },
 "nbformat": 4,
 "nbformat_minor": 4
}
