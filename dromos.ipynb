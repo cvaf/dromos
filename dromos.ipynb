{
 "cells": [
  {
   "cell_type": "code",
   "execution_count": 1,
   "metadata": {},
   "outputs": [],
   "source": [
    "import pandas as pd\n",
    "import numpy as np\n",
    "from dromos_functions import coords_finder, ele_finder, d_graph, route_construction, map_plot, closest_point, match_value, meters_dist\n",
    "from bokeh.io import output_file, output_notebook, show\n",
    "\n",
    "import warnings\n",
    "warnings.filterwarnings('ignore')\n",
    "\n",
    "from scipy.spatial.distance import cdist"
   ]
  },
  {
   "cell_type": "markdown",
   "metadata": {},
   "source": [
    "# DROMOS\n",
    "\n",
    "This project focuses on finding the shortest routes in Manhattan for cyclists/pedestrians. \n",
    "To use the code below, download the datasets from the attached links and insert your Google Dev API in the code block below. \n",
    "\n",
    "Using data from [NYC Open Data](https://data.cityofnewyork.us/Transportation/Elevation-points/szwg-xci6/data)."
   ]
  },
  {
   "cell_type": "code",
   "execution_count": 14,
   "metadata": {},
   "outputs": [],
   "source": [
    "google_api = '___'"
   ]
  },
  {
   "cell_type": "markdown",
   "metadata": {},
   "source": [
    "#### **Table of Contents**:\n",
    "1. Data Cleaning.\n",
    "    - 1.1 Reading Dataframe 1: Elevation.\n",
    "    - 1.2 Reading Dataframe 2: Centerline.\n",
    "        - Bike Lane.\n",
    "        - Coordinates.\n",
    "        - Traffic Direction.\n",
    "    - 1.3 Merge: Merging the two original dataframes.\n",
    "        - Calculating the Distance.\n",
    "        - Elevation for Missing Data.\n",
    "        - Converting: Feet to Meters.\n",
    "        - Save our Dataframe.\n",
    "2. Route Search.\n",
    "    - 2.1 Input\n",
    "        - Define Origin and find Closest Point\n",
    "        - Define Destination and find Closest Point\n",
    "    - 2.2 Graph \n",
    "        - Narrow down dataframe search \n",
    "        - Construct Graph with Shortest Path to every Point from Origin.\n",
    "        - Find path from Origin to Destination.\n",
    "        - Display Path on a Map\n",
    "    \n",
    "# 1. Data Cleaning\n",
    "\n",
    "## 1.1 Elevation"
   ]
  },
  {
   "cell_type": "code",
   "execution_count": 2,
   "metadata": {},
   "outputs": [],
   "source": [
    "df = pd.read_csv('ELEVATION.csv')\n",
    "\n",
    "# we only select the values with subcode 300000 - road points\n",
    "df = df[df.SUB_CODE == 300000]\n",
    "df.reset_index(drop = True, inplace = True)\n",
    "\n",
    "# parse out our coordinates\n",
    "df['longitude'] = df.the_geom.apply(lambda x: x.split('(')[-1].split(')')[0].split()[0])\n",
    "df['latitude'] = df.the_geom.apply(lambda x: x.split('(')[-1].split(')')[0].split()[1])\n",
    "df['longitude'] = pd.to_numeric(df.longitude)\n",
    "df['latitude'] = pd.to_numeric(df.latitude)\n",
    "df = df.round(4)\n",
    "\n",
    "# turn our coordinates into a tuple\n",
    "df['coords_first'] = list(zip(df.latitude, df.longitude))\n",
    "\n",
    "# rename elevation\n",
    "df['elevation'] = df.ELEVATION\n",
    "df = df[['coords_first', 'elevation']]\n",
    "\n",
    "# creating a duplicate dataframe for later use\n",
    "df_last = df[['elevation']]\n",
    "df_last['coords_last'] = df.coords_first\n",
    "df_last = df_last[['coords_last', 'elevation']]"
   ]
  },
  {
   "cell_type": "markdown",
   "metadata": {},
   "source": [
    "## 1.2 Centerline\n",
    "\n",
    "This dataset gives us information on traffic direction, bike lanes, traffic direction, street width and street name.\n",
    "\n",
    "#### Dictionary\n",
    "\n",
    "**Traffic Direction**: code indicating the flow of traffic relative to the street segment's address range.\n",
    "1. FT - With\n",
    "2. TF - Against\n",
    "3. TW - Two-way\n",
    "4. NV - Non-vehicular\n",
    "\n",
    "**Coordinates**: our latitude and longitude variables indicate the first and last set of coordinates on each street.\n",
    "\n",
    "**Full Street**: Street Name\n",
    "\n",
    "**Physical ID**: unique ID for intersections (might not be necessary)\n",
    "\n",
    "**Bike Lane**: binary variable s.t 1 = bike lane, 0 = no bike lane\n",
    "\n",
    "** Street Width**: indicates street width in feet"
   ]
  },
  {
   "cell_type": "code",
   "execution_count": 4,
   "metadata": {},
   "outputs": [],
   "source": [
    "cline = pd.read_csv('Centerline.csv')\n",
    "\n",
    "# limit our data for Manhattan\n",
    "cline = cline[cline.BOROCODE == 1]\n",
    "\n",
    "# select variables of interest\n",
    "cline = cline[['the_geom', 'PHYSICALID', 'TRAFDIR', 'ST_WIDTH', 'BIKE_LANE', 'FULL_STREE']]\n",
    "cline.reset_index(drop = True, inplace = True)"
   ]
  },
  {
   "cell_type": "markdown",
   "metadata": {},
   "source": [
    "#### Bikelane"
   ]
  },
  {
   "cell_type": "code",
   "execution_count": 5,
   "metadata": {},
   "outputs": [],
   "source": [
    "# edit bike_lane variable s.t 1 = bike lane, 0 = no bike lane\n",
    "cline['bike_lane'] = np.where(cline.BIKE_LANE.notnull(), 1, 0)\n",
    "cline.drop('BIKE_LANE', inplace = True, axis = 1)"
   ]
  },
  {
   "cell_type": "markdown",
   "metadata": {},
   "source": [
    "#### Coordinates"
   ]
  },
  {
   "cell_type": "code",
   "execution_count": 6,
   "metadata": {},
   "outputs": [],
   "source": [
    "# transform the_geom and extract the first and last set of coordinates\n",
    "cline['latitude_first'] = cline.the_geom.apply(lambda x: x.split('(')[-1].split(')')[0].split(',')[0].split()[1])\n",
    "cline['longitude_first'] = cline.the_geom.apply(lambda x: x.split('(')[-1].split(')')[0].split(',')[0].split()[0])\n",
    "cline['latitude_last'] = cline.the_geom.apply(lambda x: x.split('(')[-1].split(')')[0].split(',')[-1].split()[1])\n",
    "cline['longitude_last'] = cline.the_geom.apply(lambda x: x.split('(')[-1].split(')')[0].split(',')[-1].split()[0])\n",
    "cline['latitude_first'] = pd.to_numeric(cline.latitude_first)\n",
    "cline['longitude_first'] = pd.to_numeric(cline.longitude_first)\n",
    "cline['latitude_last'] = pd.to_numeric(cline.latitude_last)\n",
    "cline['longitude_last'] = pd.to_numeric(cline.longitude_last)\n",
    "cline = cline.round(8)\n",
    "\n",
    "# drop the_geom variable\n",
    "cline.drop('the_geom', axis = 1, inplace = True)\n",
    "# rename some of our variables\n",
    "cline['full_street'] = cline.FULL_STREE\n",
    "cline['street_width'] = cline.ST_WIDTH\n",
    "cline['traffic_dir'] = cline.TRAFDIR\n",
    "# select and rearrange our variables of interest\n",
    "cline = cline[['latitude_first', 'longitude_first', 'latitude_last', 'longitude_last', 'full_street', 'street_width', 'traffic_dir', 'bike_lane']]\n",
    "\n",
    "# convert our lats and longs into tuples of coordinates for easier data cleaning\n",
    "cline['coords_first'] = list(zip(cline.latitude_first, cline.longitude_first))\n",
    "cline['coords_last'] = list(zip(cline.latitude_last, cline.longitude_last))\n",
    "\n",
    "# drop our individual lats and longs\n",
    "cline = cline[['coords_first', 'coords_last', 'full_street', 'street_width', 'traffic_dir', 'bike_lane']]"
   ]
  },
  {
   "cell_type": "markdown",
   "metadata": {},
   "source": [
    "#### Traffic Direction"
   ]
  },
  {
   "cell_type": "code",
   "execution_count": 7,
   "metadata": {},
   "outputs": [],
   "source": [
    "# create a new dataset made up of all of our datapoints with either two way streets or streets facing the other way\n",
    "cline_rev = cline[(cline.traffic_dir == 'TF') | (cline.traffic_dir == 'TW')]\n",
    "\n",
    "# create a placeholder for our coordinates and then switch our coordinates\n",
    "cline_rev['_'] = cline_rev.coords_first\n",
    "cline_rev['coords_first'] = cline_rev.coords_last\n",
    "cline_rev['coords_last'] = cline_rev._\n",
    "# drop our placeholder\n",
    "cline_rev.drop('_', axis = 1, inplace = True)\n",
    "\n",
    "# revert our direction\n",
    "cline_rev.traffic_dir = np.where(cline_rev.traffic_dir == 'TF', 'FT', cline_rev.traffic_dir)\n",
    "\n",
    "# append our new dataset of reverted directions\n",
    "cline = cline.append(cline_rev)\n",
    "\n",
    "# remove all duplicates\n",
    "cline = cline[cline.traffic_dir != 'TF']\n",
    "\n",
    "# specify direction for all datapoints\n",
    "cline['traffic_dir'] = np.where(cline.traffic_dir == 'TW', 'FT', cline.traffic_dir)\n",
    "# drop traffic direction as we are no longer interested in it\n",
    "cline.drop('traffic_dir', axis = 1, inplace = True)\n",
    "\n",
    "\n",
    "cline.reset_index(drop = True, inplace = True)"
   ]
  },
  {
   "cell_type": "code",
   "execution_count": 9,
   "metadata": {},
   "outputs": [
    {
     "name": "stdout",
     "output_type": "stream",
     "text": [
      "Centerline data has 15927 datapoints and we have 376575 datapoints on elevation.\n"
     ]
    }
   ],
   "source": [
    "print('Centerline data has {} datapoints and we have {} datapoints on elevation.'.format(cline.shape[0], df.shape[0]))"
   ]
  },
  {
   "cell_type": "markdown",
   "metadata": {},
   "source": [
    "## 1.3 Merge\n",
    "\n",
    "At the moment our original dataframe, df, stores information on the elevation for set of coordinates. Our other dataframe, cline, stores information for the distance between two sets of coordinates. To proceed with our project, we need to merge our two dataframes, and eventually calculate the elevation difference between two sets of coordinates. "
   ]
  },
  {
   "cell_type": "code",
   "execution_count": 11,
   "metadata": {},
   "outputs": [],
   "source": [
    "# merging our dataframes\n",
    "data = cline.merge(df, on = 'coords_first', how = 'left')\n",
    "data = data.merge(df_last, on = 'coords_last', how = 'left')"
   ]
  },
  {
   "cell_type": "markdown",
   "metadata": {},
   "source": [
    "#### Measuring the distance\n",
    "\n",
    "To find the distance between our two set of coordinates, we wrote a function called 'meters_dist' -- we apply that to our dataset to construct the 'distance' variable."
   ]
  },
  {
   "cell_type": "code",
   "execution_count": 12,
   "metadata": {},
   "outputs": [],
   "source": [
    "# parsing out the latitude and longitude from our dataset \n",
    "data_ = data.copy()\n",
    "data_[['coords_first_x', 'coords_first_y']] = data.coords_first.apply(pd.Series)\n",
    "data_[['coords_last_x', 'coords_last_y']] = data.coords_last.apply(pd.Series)\n",
    "\n",
    "# creating the new distance variable -- represents the distance between our two coordinates in meters\n",
    "data['distance'] = data_.apply(meters_dist, axis = 1)\n",
    "\n",
    "# sorting our values in ascending order and resetting the index\n",
    "data.sort_values(by = 'coords_first', ascending = True, inplace = True)\n",
    "data.reset_index(drop = True, inplace = True)"
   ]
  },
  {
   "cell_type": "markdown",
   "metadata": {},
   "source": [
    "### Inferring elevation for missing data\n",
    "\n",
    "For a subset of our cline dataset, we don't have the equivalent set of coordinates in the elevation dataset so we will find the closest one. Once we do that, we will add the corresponding elevation to our dataframe."
   ]
  },
  {
   "cell_type": "code",
   "execution_count": 14,
   "metadata": {},
   "outputs": [],
   "source": [
    "# find the closest coordinates in our elevation dataframe for coordinates that we were unable to find the elevation for\n",
    "closest_x_list = [closest_point(x, list(df['coords_first'])) for x in data[data.elevation_x.isnull()]['coords_first']]\n",
    "closest_df = pd.DataFrame(data = closest_x_list, index = data[data.elevation_x.isnull()].index, columns = ['x', 'y'])\n",
    "closest_df['closest_x'] = list(zip(closest_df.x, closest_df.y))\n",
    "closest_df = closest_df[['closest_x']]\n",
    "# add the equivalent elevation for each coordinate\n",
    "closest_df['elevation_x'] = [match_value(df, 'coords_first', x, 'elevation') for x in closest_df['closest_x']]\n",
    "\n",
    "# do the above for y, too.\n",
    "closest_y_list = [closest_point(x, list(df_last['coords_last'])) for x in data[data.elevation_y.isnull()]['coords_last']]\n",
    "closest_df_y = pd.DataFrame(data = closest_y_list, index = data[data.elevation_y.isnull()].index, columns = ['x', 'y'])\n",
    "closest_df_y['closest_y'] = list(zip(closest_df_y.x, closest_df_y.y))\n",
    "closest_df_y = closest_df_y[['closest_y']]\n",
    "# add the equivalent elevation for each coordinate\n",
    "closest_df_y['elevation_y'] = [match_value(df_last, 'coords_last', x, 'elevation') for x in closest_df_y['closest_y']]\n",
    "\n",
    "# append the above to our dataframe\n",
    "data = data.merge(closest_df, right_index = True, left_index = True, how = 'left')\n",
    "data['elevation_x'] = np.where(data.elevation_x_x.isnull(), data.elevation_x_y, data.elevation_x_x)\n",
    "data = data.merge(closest_df_y, right_index = True, left_index = True, how = 'left')\n",
    "data['elevation_y'] = np.where(data.elevation_y_x.isnull(), data.elevation_y_y, data.elevation_y_x)\n",
    "data = data[['coords_first', 'coords_last', 'full_street', 'street_width', 'bike_lane', 'distance', 'elevation_x', 'elevation_y', 'closest_x', 'closest_y']]"
   ]
  },
  {
   "cell_type": "markdown",
   "metadata": {},
   "source": [
    "#### Elevation: Feet to Meters\n",
    "\n",
    "Our elevation data is in feet, so we would like to convert it to meters."
   ]
  },
  {
   "cell_type": "code",
   "execution_count": 15,
   "metadata": {},
   "outputs": [],
   "source": [
    "data['elevation_x'] = data.elevation_x * 0.3048\n",
    "data['elevation_y'] = data.elevation_y * 0.3048"
   ]
  },
  {
   "cell_type": "markdown",
   "metadata": {},
   "source": [
    "#### Evaluating our accuracy \n",
    "\n",
    "If the closest set of coordinates to a point is greater than X, then the elevation might not necessarily be accurate."
   ]
  },
  {
   "cell_type": "code",
   "execution_count": 16,
   "metadata": {},
   "outputs": [],
   "source": [
    "data_x_ = data.copy()\n",
    "data_x_[['coords_first_x', 'coords_first_y']] = data_x_.coords_first.apply(pd.Series)\n",
    "data_x_[['coords_last_x', 'coords_last_y']] = data_x_.closest_x.apply(pd.Series)\n",
    "\n",
    "data['x_cl_distance'] = data_x_.apply(meters_dist, axis = 1)\n",
    "\n",
    "data_x_ = data.copy()\n",
    "data_x_[['coords_first_x', 'coords_first_y']] = data_x_.coords_last.apply(pd.Series)\n",
    "data_x_[['coords_last_x', 'coords_last_y']] = data_x_.closest_y.apply(pd.Series)\n",
    "\n",
    "data['y_cl_distance'] = data_x_.apply(meters_dist, axis = 1)"
   ]
  },
  {
   "cell_type": "code",
   "execution_count": 437,
   "metadata": {},
   "outputs": [
    {
     "data": {
      "text/plain": [
       "0.07033465683494045"
      ]
     },
     "execution_count": 437,
     "metadata": {},
     "output_type": "execute_result"
    }
   ],
   "source": [
    "data[data.x_cl_distance > 100].shape[0] / data[data.x_cl_distance.notnull()].shape[0]"
   ]
  },
  {
   "cell_type": "markdown",
   "metadata": {},
   "source": [
    "It seems that approximately 7% of our estimated coordinates, have been mapped to another set of coords that are further than 100m away. We're not going to worry about this at the moment, since if the closest point is more than 100m away, then it's likely that the specific set of coords will never be used. \n",
    "\n",
    "Since our dataframes are finally merged together, we can overwrite the original df dataset."
   ]
  },
  {
   "cell_type": "code",
   "execution_count": 448,
   "metadata": {},
   "outputs": [],
   "source": [
    "df = data.copy()\n",
    "df = df[['coords_first', 'coords_last', 'full_street', 'street_width', 'bike_lane', 'distance', 'elevation_x', 'elevation_y']]"
   ]
  },
  {
   "cell_type": "code",
   "execution_count": 449,
   "metadata": {},
   "outputs": [
    {
     "data": {
      "text/html": [
       "<div>\n",
       "<style scoped>\n",
       "    .dataframe tbody tr th:only-of-type {\n",
       "        vertical-align: middle;\n",
       "    }\n",
       "\n",
       "    .dataframe tbody tr th {\n",
       "        vertical-align: top;\n",
       "    }\n",
       "\n",
       "    .dataframe thead th {\n",
       "        text-align: right;\n",
       "    }\n",
       "</style>\n",
       "<table border=\"1\" class=\"dataframe\">\n",
       "  <thead>\n",
       "    <tr style=\"text-align: right;\">\n",
       "      <th></th>\n",
       "      <th>coords_first</th>\n",
       "      <th>coords_last</th>\n",
       "      <th>full_street</th>\n",
       "      <th>street_width</th>\n",
       "      <th>bike_lane</th>\n",
       "      <th>distance</th>\n",
       "      <th>elevation_x</th>\n",
       "      <th>elevation_y</th>\n",
       "    </tr>\n",
       "  </thead>\n",
       "  <tbody>\n",
       "    <tr>\n",
       "      <th>0</th>\n",
       "      <td>(40.6798, -74.0198)</td>\n",
       "      <td>(40.6924, -74.0069)</td>\n",
       "      <td>MARTHA'S VYD HIGHLANDS FERRY RTE</td>\n",
       "      <td>0</td>\n",
       "      <td>0</td>\n",
       "      <td>1775.701170</td>\n",
       "      <td>1.863303</td>\n",
       "      <td>1.734282</td>\n",
       "    </tr>\n",
       "    <tr>\n",
       "      <th>1</th>\n",
       "      <td>(40.6799, -74.0194)</td>\n",
       "      <td>(40.6797, -74.0196)</td>\n",
       "      <td>IKEA WALL STREET FERRY RTE</td>\n",
       "      <td>0</td>\n",
       "      <td>0</td>\n",
       "      <td>27.942002</td>\n",
       "      <td>1.863303</td>\n",
       "      <td>1.863303</td>\n",
       "    </tr>\n",
       "    <tr>\n",
       "      <th>2</th>\n",
       "      <td>(40.68, -74.0204)</td>\n",
       "      <td>(40.6916, -74.0079)</td>\n",
       "      <td>HIGHLANDS-MIDTOWN EAST FERRY RTE</td>\n",
       "      <td>0</td>\n",
       "      <td>0</td>\n",
       "      <td>1667.585796</td>\n",
       "      <td>1.863303</td>\n",
       "      <td>2.014515</td>\n",
       "    </tr>\n",
       "    <tr>\n",
       "      <th>3</th>\n",
       "      <td>(40.6809, -74.0179)</td>\n",
       "      <td>(40.6799, -74.0194)</td>\n",
       "      <td>IKEA WALL STREET FERRY RTE</td>\n",
       "      <td>0</td>\n",
       "      <td>0</td>\n",
       "      <td>168.603586</td>\n",
       "      <td>1.944837</td>\n",
       "      <td>1.863303</td>\n",
       "    </tr>\n",
       "    <tr>\n",
       "      <th>4</th>\n",
       "      <td>(40.6827, -74.0283)</td>\n",
       "      <td>(40.6904, -74.0247)</td>\n",
       "      <td>RED HOOK-MIDTOWN EAST FERRY RTE</td>\n",
       "      <td>0</td>\n",
       "      <td>0</td>\n",
       "      <td>909.433210</td>\n",
       "      <td>2.121713</td>\n",
       "      <td>2.220407</td>\n",
       "    </tr>\n",
       "  </tbody>\n",
       "</table>\n",
       "</div>"
      ],
      "text/plain": [
       "          coords_first          coords_last                       full_street  \\\n",
       "0  (40.6798, -74.0198)  (40.6924, -74.0069)  MARTHA'S VYD HIGHLANDS FERRY RTE   \n",
       "1  (40.6799, -74.0194)  (40.6797, -74.0196)        IKEA WALL STREET FERRY RTE   \n",
       "2    (40.68, -74.0204)  (40.6916, -74.0079)  HIGHLANDS-MIDTOWN EAST FERRY RTE   \n",
       "3  (40.6809, -74.0179)  (40.6799, -74.0194)        IKEA WALL STREET FERRY RTE   \n",
       "4  (40.6827, -74.0283)  (40.6904, -74.0247)   RED HOOK-MIDTOWN EAST FERRY RTE   \n",
       "\n",
       "   street_width  bike_lane     distance  elevation_x  elevation_y  \n",
       "0             0          0  1775.701170     1.863303     1.734282  \n",
       "1             0          0    27.942002     1.863303     1.863303  \n",
       "2             0          0  1667.585796     1.863303     2.014515  \n",
       "3             0          0   168.603586     1.944837     1.863303  \n",
       "4             0          0   909.433210     2.121713     2.220407  "
      ]
     },
     "execution_count": 449,
     "metadata": {},
     "output_type": "execute_result"
    }
   ],
   "source": [
    "df.head()"
   ]
  },
  {
   "cell_type": "code",
   "execution_count": 450,
   "metadata": {},
   "outputs": [],
   "source": [
    "df.to_csv('merged_dataframe.csv')"
   ]
  },
  {
   "cell_type": "markdown",
   "metadata": {},
   "source": [
    "# 2. Route Search\n",
    "\n",
    "Once our data is finally ready -- only steps left are finding the elevation difference between our two sets of coordinates -- we will start setting up our program to find the optimal route between two points by using **Dijkstra's** algorithm. \n",
    "\n",
    "Route Search:\n",
    "- Input: Starting Address + Target Address\n",
    "- Output: Map outlying the ideal route.\n",
    "\n",
    "**Steps**:\n",
    "1. Enter the input as an address, convert that to coordinates. \n",
    "2. Construct the graph outlying shortest path from origin to other points in dataframe using Dijkstra's.\n",
    "3. Find the path from the origin to the destination.\n",
    "4. Display the path on a map.\n"
   ]
  },
  {
   "cell_type": "code",
   "execution_count": 2,
   "metadata": {},
   "outputs": [],
   "source": [
    "df = pd.read_csv('merged_dataframe.csv', index_col = 'Unnamed: 0')"
   ]
  },
  {
   "cell_type": "code",
   "execution_count": 3,
   "metadata": {},
   "outputs": [],
   "source": [
    "# calculate the elevation difference\n",
    "df['elevation_diff'] = df.elevation_y - df.elevation_x\n",
    "\n",
    "# our set of coordinates are loaded as strings so we convert them to ints\n",
    "df['first_x'] = pd.to_numeric(df.coords_first.apply(lambda x: x.split('(')[-1].split(')')[0].split()[0].split(',')[0]))\n",
    "df['first_y'] = pd.to_numeric(df.coords_first.apply(lambda x: x.split('(')[-1].split(')')[0].split()[1].split(',')[0]))\n",
    "df['last_x'] = pd.to_numeric(df.coords_last.apply(lambda x: x.split('(')[-1].split(')')[0].split()[0].split(',')[0]))\n",
    "df['last_y'] = pd.to_numeric(df.coords_last.apply(lambda x: x.split('(')[-1].split(')')[0].split()[1].split(',')[0]))\n",
    "df['coords_first'] = list(zip(df.first_x, df.first_y))\n",
    "df['coords_last'] = list(zip(df.last_x, df.last_y))\n",
    "\n",
    "# removing coordinates in driveways (closed component)\n",
    "df = df[df.full_street != 'DRIVEWAY']\n",
    "# remove rows where they point to same set of coordinates\n",
    "df = df[df.coords_first != df.coords_last]"
   ]
  },
  {
   "cell_type": "code",
   "execution_count": 4,
   "metadata": {},
   "outputs": [
    {
     "data": {
      "text/html": [
       "<div>\n",
       "<style scoped>\n",
       "    .dataframe tbody tr th:only-of-type {\n",
       "        vertical-align: middle;\n",
       "    }\n",
       "\n",
       "    .dataframe tbody tr th {\n",
       "        vertical-align: top;\n",
       "    }\n",
       "\n",
       "    .dataframe thead th {\n",
       "        text-align: right;\n",
       "    }\n",
       "</style>\n",
       "<table border=\"1\" class=\"dataframe\">\n",
       "  <thead>\n",
       "    <tr style=\"text-align: right;\">\n",
       "      <th></th>\n",
       "      <th>coords_first</th>\n",
       "      <th>coords_last</th>\n",
       "      <th>full_street</th>\n",
       "      <th>street_width</th>\n",
       "      <th>bike_lane</th>\n",
       "      <th>distance</th>\n",
       "      <th>elevation_x</th>\n",
       "      <th>elevation_y</th>\n",
       "      <th>elevation_diff</th>\n",
       "      <th>first_x</th>\n",
       "      <th>first_y</th>\n",
       "      <th>last_x</th>\n",
       "      <th>last_y</th>\n",
       "      <th>steep</th>\n",
       "    </tr>\n",
       "  </thead>\n",
       "  <tbody>\n",
       "    <tr>\n",
       "      <th>0</th>\n",
       "      <td>(40.6798, -74.0198)</td>\n",
       "      <td>(40.6924, -74.0069)</td>\n",
       "      <td>MARTHA'S VYD HIGHLANDS FERRY RTE</td>\n",
       "      <td>0</td>\n",
       "      <td>0</td>\n",
       "      <td>1775.701170</td>\n",
       "      <td>1.863303</td>\n",
       "      <td>1.734282</td>\n",
       "      <td>-0.129022</td>\n",
       "      <td>40.6798</td>\n",
       "      <td>-74.0198</td>\n",
       "      <td>40.6924</td>\n",
       "      <td>-74.0069</td>\n",
       "      <td>1.0</td>\n",
       "    </tr>\n",
       "    <tr>\n",
       "      <th>1</th>\n",
       "      <td>(40.6799, -74.0194)</td>\n",
       "      <td>(40.6797, -74.0196)</td>\n",
       "      <td>IKEA WALL STREET FERRY RTE</td>\n",
       "      <td>0</td>\n",
       "      <td>0</td>\n",
       "      <td>27.942002</td>\n",
       "      <td>1.863303</td>\n",
       "      <td>1.863303</td>\n",
       "      <td>0.000000</td>\n",
       "      <td>40.6799</td>\n",
       "      <td>-74.0194</td>\n",
       "      <td>40.6797</td>\n",
       "      <td>-74.0196</td>\n",
       "      <td>1.0</td>\n",
       "    </tr>\n",
       "  </tbody>\n",
       "</table>\n",
       "</div>"
      ],
      "text/plain": [
       "          coords_first          coords_last                       full_street  \\\n",
       "0  (40.6798, -74.0198)  (40.6924, -74.0069)  MARTHA'S VYD HIGHLANDS FERRY RTE   \n",
       "1  (40.6799, -74.0194)  (40.6797, -74.0196)        IKEA WALL STREET FERRY RTE   \n",
       "\n",
       "   street_width  bike_lane     distance  elevation_x  elevation_y  \\\n",
       "0             0          0  1775.701170     1.863303     1.734282   \n",
       "1             0          0    27.942002     1.863303     1.863303   \n",
       "\n",
       "   elevation_diff  first_x  first_y   last_x   last_y  steep  \n",
       "0       -0.129022  40.6798 -74.0198  40.6924 -74.0069    1.0  \n",
       "1        0.000000  40.6799 -74.0194  40.6797 -74.0196    1.0  "
      ]
     },
     "execution_count": 4,
     "metadata": {},
     "output_type": "execute_result"
    }
   ],
   "source": [
    "df['steep'] = abs(df.elevation_diff) / df.distance\n",
    "df['steep'] = round(df.steep + 1)\n",
    "df.head(2)"
   ]
  },
  {
   "cell_type": "code",
   "execution_count": 5,
   "metadata": {},
   "outputs": [],
   "source": [
    "df['actual_distance'] = df.distance\n",
    "df['distance'] = df.actual_distance * df.steep"
   ]
  },
  {
   "cell_type": "markdown",
   "metadata": {},
   "source": [
    "## Step 1\n",
    "\n",
    "We input our origin and destination addresses in the coords_finder function we constructed to find each location's coordinates."
   ]
  },
  {
   "cell_type": "code",
   "execution_count": 9,
   "metadata": {},
   "outputs": [],
   "source": [
    "beginning = coords_finder('Columbia University New York', google_api)\n",
    "beginning = (round(beginning[0], 4), round(beginning[1], 4))\n",
    "if not df[df.coords_first == beginning].any()[0]:\n",
    "    beginning = closest_point(beginning, list(df.coords_first))\n",
    "\n",
    "end = coords_finder('Levain Cookies Upper West Side', google_api)\n",
    "end = (round(end[0], 4), round(end[1], 4))\n",
    "if not df[df.coords_last == end].any()[1]:\n",
    "    end = closest_point(end, list(df.coords_last))"
   ]
  },
  {
   "cell_type": "markdown",
   "metadata": {},
   "source": [
    "## Step 2\n",
    "\n",
    "We pass the corresponding coordinates as arguments to our d_graph function that uses Dikjstra's to find the shortest path to every point from our origin."
   ]
  },
  {
   "cell_type": "code",
   "execution_count": 10,
   "metadata": {},
   "outputs": [
    {
     "data": {
      "text/html": [
       "<div>\n",
       "<style scoped>\n",
       "    .dataframe tbody tr th:only-of-type {\n",
       "        vertical-align: middle;\n",
       "    }\n",
       "\n",
       "    .dataframe tbody tr th {\n",
       "        vertical-align: top;\n",
       "    }\n",
       "\n",
       "    .dataframe thead th {\n",
       "        text-align: right;\n",
       "    }\n",
       "</style>\n",
       "<table border=\"1\" class=\"dataframe\">\n",
       "  <thead>\n",
       "    <tr style=\"text-align: right;\">\n",
       "      <th></th>\n",
       "      <th>vertex</th>\n",
       "      <th>short_distance</th>\n",
       "      <th>prev_vertex</th>\n",
       "    </tr>\n",
       "  </thead>\n",
       "  <tbody>\n",
       "    <tr>\n",
       "      <th>0</th>\n",
       "      <td>(40.808, -73.9638)</td>\n",
       "      <td>0.000000</td>\n",
       "      <td>NaN</td>\n",
       "    </tr>\n",
       "    <tr>\n",
       "      <th>1</th>\n",
       "      <td>(40.808, -73.964)</td>\n",
       "      <td>16.851629</td>\n",
       "      <td>(40.808, -73.9638)</td>\n",
       "    </tr>\n",
       "  </tbody>\n",
       "</table>\n",
       "</div>"
      ],
      "text/plain": [
       "               vertex  short_distance         prev_vertex\n",
       "0  (40.808, -73.9638)        0.000000                 NaN\n",
       "1   (40.808, -73.964)       16.851629  (40.808, -73.9638)"
      ]
     },
     "execution_count": 10,
     "metadata": {},
     "output_type": "execute_result"
    }
   ],
   "source": [
    "result = d_graph(beginning, end, df)\n",
    "result.head(2)"
   ]
  },
  {
   "cell_type": "markdown",
   "metadata": {},
   "source": [
    "## Step 3\n",
    "\n",
    "We retrace our algorithm to find the shortest path to our destination. "
   ]
  },
  {
   "cell_type": "code",
   "execution_count": 11,
   "metadata": {},
   "outputs": [
    {
     "data": {
      "text/html": [
       "<div>\n",
       "<style scoped>\n",
       "    .dataframe tbody tr th:only-of-type {\n",
       "        vertical-align: middle;\n",
       "    }\n",
       "\n",
       "    .dataframe tbody tr th {\n",
       "        vertical-align: top;\n",
       "    }\n",
       "\n",
       "    .dataframe thead th {\n",
       "        text-align: right;\n",
       "    }\n",
       "</style>\n",
       "<table border=\"1\" class=\"dataframe\">\n",
       "  <thead>\n",
       "    <tr style=\"text-align: right;\">\n",
       "      <th></th>\n",
       "      <th>0</th>\n",
       "      <th>1</th>\n",
       "    </tr>\n",
       "  </thead>\n",
       "  <tbody>\n",
       "    <tr>\n",
       "      <th>0</th>\n",
       "      <td>40.7818</td>\n",
       "      <td>-73.9793</td>\n",
       "    </tr>\n",
       "    <tr>\n",
       "      <th>1</th>\n",
       "      <td>40.7812</td>\n",
       "      <td>-73.9797</td>\n",
       "    </tr>\n",
       "  </tbody>\n",
       "</table>\n",
       "</div>"
      ],
      "text/plain": [
       "         0        1\n",
       "0  40.7818 -73.9793\n",
       "1  40.7812 -73.9797"
      ]
     },
     "execution_count": 11,
     "metadata": {},
     "output_type": "execute_result"
    }
   ],
   "source": [
    "route = route_construction(result, beginning, end)\n",
    "df_route = pd.Series(route)\n",
    "df_route = df_route.apply(pd.Series)\n",
    "df_route.head(2)"
   ]
  },
  {
   "cell_type": "markdown",
   "metadata": {},
   "source": [
    "## Step 4\n",
    "\n",
    "Displaying the path:"
   ]
  },
  {
   "cell_type": "code",
   "execution_count": 12,
   "metadata": {},
   "outputs": [],
   "source": [
    "plot = map_plot(df_route, google_api)\n",
    "show(plot)"
   ]
  }
 ],
 "metadata": {
  "kernelspec": {
   "display_name": "Python 3",
   "language": "python",
   "name": "python3"
  },
  "language_info": {
   "codemirror_mode": {
    "name": "ipython",
    "version": 3
   },
   "file_extension": ".py",
   "mimetype": "text/x-python",
   "name": "python",
   "nbconvert_exporter": "python",
   "pygments_lexer": "ipython3",
   "version": "3.6.3"
  }
 },
 "nbformat": 4,
 "nbformat_minor": 2
}
